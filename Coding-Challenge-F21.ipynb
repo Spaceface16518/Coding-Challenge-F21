{
 "cells": [
  {
   "cell_type": "markdown",
   "source": [
    "# Coding Challenge (Fall 2021)\n",
    "\n",
    "This coding challenge requested the overall sentiment of the text in `input.txt`.\n",
    "I chose to use the VADER (Valence Aware Dictionary and sEntiment Reasoner) sentiment analysis tool to analyze the input text.\n",
    "The benefits and drawbacks of this choice and my analysis are explained in the [conclusions](#Conclusions) and [limitations](#Limitations) sections, respectively."
   ],
   "metadata": {
    "collapsed": false,
    "pycharm": {
     "name": "#%% md\n"
    }
   }
  },
  {
   "cell_type": "markdown",
   "source": [
    "## Background\n",
    "\n",
    "I have plenty of experience using sentiment analysis tools, but this challenge presented a unique problem that I had not encountered before.\n",
    "Most accessible sentiment analysis tools target modern language, especially informal and emotionally impacted text.\n",
    "This can be attributed to their primary use-case: analysis of social media or customer feedback/interaction.\n",
    "For example, one of the most commonly used pre-labeled sentiment analysis training sets is comprised of movie reviews.\n",
    "The input file is composed of two excerpts, one from *The Sand and The Sieve* by Ray Bradbury and *The Autobiography of Benjamin Franklin*.\n",
    "While helpful to companies trying to gauge customer satisfaction, the existing tools are not general enough to handle the style of language used by these excerpts.\n",
    "As such, the main challenge presented by this problem lies in the interpretation of the input data rather than the sentiment analysis itself.\n",
    "\n",
    "## Implementations\n",
    "\n",
    "All implementations will use the VADER sentiment analysis tool."
   ],
   "metadata": {
    "collapsed": false,
    "pycharm": {
     "name": "#%% md\n"
    }
   }
  },
  {
   "cell_type": "code",
   "execution_count": 10,
   "outputs": [],
   "source": [
    "import matplotlib.pyplot as plt\n",
    "from nltk.sentiment.vader import SentimentIntensityAnalyzer\n",
    "\n",
    "analyzer = SentimentIntensityAnalyzer()\n",
    "\n",
    "file = open('input.txt', mode='r')\n",
    "data = file.read()\n",
    "file.close()"
   ],
   "metadata": {
    "collapsed": false,
    "pycharm": {
     "name": "#%%\n"
    }
   }
  },
  {
   "cell_type": "markdown",
   "source": [
    "### Naive\n",
    "\n",
    "Since the assignment was to analyze the sentiment of the entirety of the text in the input file, throwing the entirety of the text into the VADER sentiment analysis tool is the fastest way to generate *some* result."
   ],
   "metadata": {
    "collapsed": false,
    "pycharm": {
     "name": "#%% md\n"
    }
   }
  },
  {
   "cell_type": "code",
   "execution_count": 11,
   "outputs": [
    {
     "name": "stdout",
     "output_type": "stream",
     "text": [
      "compound score = 0.9982\n"
     ]
    }
   ],
   "source": [
    "scores = analyzer.polarity_scores(data)\n",
    "print(f\"compound score = {scores['compound']}\")"
   ],
   "metadata": {
    "collapsed": false,
    "pycharm": {
     "name": "#%%\n"
    }
   }
  },
  {
   "cell_type": "markdown",
   "source": [
    "This score represents an analysis of the entire input file. It is a *normal score* produced by VADER; 1 would mean entirely positive and -1 would mean entirely negative.\n",
    "\n",
    "Despite being an exhibition of bare minimum effort as a user of the library, it generates a surprisingly good result.\n",
    "\n",
    "While most of the file registers as neutral, VADER judges the file to be much more positive than it is negative; this is the conclusion reflected in the compound score, as it is very close to 1."
   ],
   "metadata": {
    "collapsed": false
   }
  },
  {
   "cell_type": "code",
   "execution_count": 12,
   "outputs": [
    {
     "data": {
      "text/plain": "<Figure size 432x288 with 1 Axes>",
      "image/png": "[encoded data removed]"
     },
     "metadata": {},
     "output_type": "display_data"
    }
   ],
   "source": [
    "plt.pie(x=[scores[key] for key in ['pos', 'neg', 'neu']],\n",
    "        labels=['Positive', 'Negative', 'Neutral'])\n",
    "plt.show()"
   ],
   "metadata": {
    "collapsed": false,
    "pycharm": {
     "name": "#%%\n"
    }
   }
  },
  {
   "cell_type": "markdown",
   "source": [
    "While this seems hard to believe, reading the text itself offers an explanation.\n",
    "The second excerpt describes Benjamin Franklin's \"person and character\" in great detail.\n",
    "The thorough positivity of the description, then, follows from its authorship.\n",
    "\n",
    "This simple score technically answers the question proposed by the challenge, but the complexity of the inputs provided requires a more sophisticated analysis.\n",
    "\n",
    "### Paragraph Analysis\n",
    "\n",
    "While this technique has been applied to the whole input text, the disparity in source between the two excerpts prompts individual analysis of each excerpt.\n",
    "\n",
    "This can easily be accomplished by applying the same analysis to both paragraphs."
   ],
   "metadata": {
    "collapsed": false
   }
  },
  {
   "cell_type": "code",
   "execution_count": 13,
   "outputs": [
    {
     "name": "stdout",
     "output_type": "stream",
     "text": [
      "Bradbury (\"Stop blushing. I'm not needli...): 0.521\n",
      "Franklin (I think you may like to know s...): 0.9981\n"
     ]
    }
   ],
   "source": [
    "# split the input into two paragraphs\n",
    "bradbury_data, franklin_data = data.split('\\n\\n', maxsplit=2)\n",
    "\n",
    "# score each one individually\n",
    "bradbury_score = analyzer.polarity_scores(bradbury_data)\n",
    "print(f\"Bradbury ({bradbury_data[:30]}...): {bradbury_score['compound']}\")\n",
    "\n",
    "franklin_score = analyzer.polarity_scores(franklin_data)\n",
    "print(f\"Franklin ({franklin_data[:30]}...): {franklin_score['compound']}\")"
   ],
   "metadata": {
    "collapsed": false,
    "pycharm": {
     "name": "#%%\n"
    }
   }
  },
  {
   "cell_type": "markdown",
   "source": [
    "These are starkly discrete scores. The Franklin excerpt generated a far more positive score that the Bradbury excerpt; the latter registers almost neutral.\n",
    "A score generated from this finer-grained analysis is significantly different."
   ],
   "metadata": {
    "collapsed": false,
    "pycharm": {
     "name": "#%% md\n"
    }
   }
  },
  {
   "cell_type": "code",
   "execution_count": 14,
   "outputs": [
    {
     "data": {
      "text/plain": "0.81"
     },
     "execution_count": 14,
     "metadata": {},
     "output_type": "execute_result"
    }
   ],
   "source": [
    "# average the score of the two paragraphs, accounting for weight based on size\n",
    "round((bradbury_score['compound'] * len(bradbury_data) + franklin_score['compound'] * len(franklin_data)) / (len(bradbury_data) + len(franklin_data)), 3)"
   ],
   "metadata": {
    "collapsed": false,
    "pycharm": {
     "name": "#%%\n"
    }
   }
  },
  {
   "cell_type": "markdown",
   "source": [
    "This result reveals deeper complexities in the input data. While it is subjectively obvious that the autobiography is very positive,\n",
    "the novel attempts to relate more complex emotions. In the context of the story, Beatty is using Montag's love of books to get a rise out of the book-loving protagonist.\n",
    "While there is no way for our analyzer to know this, a good score would reflect this sentiment."
   ],
   "metadata": {
    "collapsed": false,
    "pycharm": {
     "name": "#%% md\n"
    }
   }
  },
  {
   "cell_type": "code",
   "execution_count": 15,
   "outputs": [
    {
     "data": {
      "text/plain": "<Figure size 432x288 with 1 Axes>",
      "image/png": "[encoded data removed]"
     },
     "metadata": {},
     "output_type": "display_data"
    }
   ],
   "source": [
    "# plot scores from the Bradbury excerpt\n",
    "plt.pie(x=[bradbury_score[key] for key in ['pos', 'neg', 'neu']],\n",
    "        labels=['Positive', 'Negative', 'Neutral'])\n",
    "plt.show()"
   ],
   "metadata": {
    "collapsed": false,
    "pycharm": {
     "name": "#%%\n"
    }
   }
  },
  {
   "cell_type": "markdown",
   "source": [
    "Unfortunately, it seems that the holistic approach to analysis is not able to detect the passion and mischief in Beatty's words.\n",
    "In order to improve the analysis, it is necessary to dig deeper into the data."
   ],
   "metadata": {
    "collapsed": false,
    "pycharm": {
     "name": "#%% md\n"
    }
   }
  },
  {
   "cell_type": "markdown",
   "source": [
    "### Sentence Tokenization"
   ],
   "metadata": {
    "collapsed": false,
    "pycharm": {
     "name": "#%% md\n"
    }
   }
  },
  {
   "cell_type": "markdown",
   "source": [
    "An easy way to extract more depth using a similarly easy analysis method is to analyze the input on a sentence by sentence basis.\n",
    "Since we are investigating the first paragraph, we will only perform sentence-level analysis on that excerpt.\n",
    "\n",
    "Using the NLTK (Natural Language ToolKit), a Python library for Natural language processing, it is simple to tokenize the sentences in this paragraph."
   ],
   "metadata": {
    "collapsed": false,
    "pycharm": {
     "name": "#%% md\n"
    }
   }
  },
  {
   "cell_type": "code",
   "execution_count": 16,
   "outputs": [
    {
     "name": "stdout",
     "output_type": "stream",
     "text": [
      "\"Stop blushing.\n",
      "I'm not needling, really I'm not.\n",
      "Do you know, I\n",
      "had a dream an hour ago.\n",
      "...\n"
     ]
    }
   ],
   "source": [
    "from nltk import tokenize\n",
    "\n",
    "sentences = tokenize.sent_tokenize(bradbury_data)\n",
    "# print some of the tokenized sentences\n",
    "print('\\n'.join(sentences[:3]))\n",
    "print('...')"
   ],
   "metadata": {
    "collapsed": false,
    "pycharm": {
     "name": "#%%\n"
    }
   }
  },
  {
   "cell_type": "markdown",
   "source": [
    "Now that we have split the paragraph into sentences, we can perform a more fine-grained analysis.\n",
    "\n",
    "Coloring the text with a utility function will enable a human viewer to visually understand the results of the analysis."
   ],
   "metadata": {
    "collapsed": false
   }
  },
  {
   "cell_type": "code",
   "execution_count": 17,
   "outputs": [
    {
     "name": "stdout",
     "output_type": "stream",
     "text": [
      "These colors will mark text as neutral, \u001B[32mpositive\u001B[m, \u001B[31mnegative\u001B[m, \u001B[1;32mvery positive\u001B[m, or \u001B[1;31mvery negative\u001B[m\n"
     ]
    }
   ],
   "source": [
    "def color(text, sentiment):\n",
    "        color_code = None\n",
    "        if sentiment > 0.5:\n",
    "                color_code = '32' # green for positive\n",
    "        elif sentiment < -0.5:\n",
    "                color_code = '31' # red for negative\n",
    "        if color_code is not None and abs(sentiment) > 0.8:\n",
    "                color_code = '1;' + color_code # bold for very positive/negative\n",
    "        return f\"\\x1b[{color_code}m{text}\\x1b[m\" if color_code else text\n",
    "\n",
    "print(f'These colors will mark text as {color(\"neutral\", 0.0)}, {color(\"positive\", 0.6)}, {color(\"negative\", -0.6)}, {color(\"very positive\", 0.99)}, or {color(\"very negative\", -0.99)}')"
   ],
   "metadata": {
    "collapsed": false,
    "pycharm": {
     "name": "#%%\n"
    }
   }
  },
  {
   "cell_type": "markdown",
   "source": [
    "The next step is to put them through the VADER analysis tool."
   ],
   "metadata": {
    "collapsed": false
   }
  },
  {
   "cell_type": "code",
   "execution_count": 18,
   "outputs": [
    {
     "name": "stdout",
     "output_type": "stream",
     "text": [
      "\"Stop blushing. I'm not needling, really I'm not. Do you know, I\n",
      "had a dream an hour ago. I lay down for a cat-nap and in this dream\n",
      "you and I, Montag, got into a furious debate on books. \u001B[31mYou towered\n",
      "with rage, yelled quotes at me.\u001B[m I calmly parried every thrust. Power, I\n",
      "said, And you, quoting Dr. Johnson, said `Knowledge is more than\n",
      "equivalent to force!' \u001B[32mAnd I said, `Well, Dr. Johnson also said, dear boy,\n",
      "that \"He is no wise man that will quit a certainty for an uncertainty.'\"\u001B[m Stick with the fireman, Montag. All else is dreary chaos!\" \"Don't listen,\" whispered Faber. \"He's trying to confuse. He's\n",
      "slippery. Watch out!\" Beatty chuckled. \u001B[31m\"And you said, quoting, `Truth will come to light,\n",
      "murder will not be hid long!'\u001B[m \u001B[32mAnd I cried in good humour, 'Oh God, he\n",
      "speaks only of his horse!'\u001B[m \u001B[31mAnd `The Devil can cite Scripture for his\n",
      "purpose.'\u001B[m And you yelled, 'This age thinks better of a gilded fool, than\n",
      "of a threadbare saint in wisdom's school!' \u001B[32mAnd I whispered gently, 'The\n",
      "dignity of truth is lost with much protesting.'\u001B[m And you screamed,\n",
      "'Carcasses bleed at the sight of the murderer!' And I said, patting your\n",
      "hand, 'What, do I give you trench mouth?' And you shrieked,\n",
      "'Knowledge is power!' and 'A dwarf on a giant's shoulders of the\n",
      "furthest of the two!' and I summed my side up with rare serenity in,\n",
      "'The folly of mistaking a metaphor for a proof, a torrent of verbiage for\n",
      "a spring of capital truths, and oneself as an oracle, is inborn in us, Mr.\n",
      "Valery once said.'\" "
     ]
    }
   ],
   "source": [
    "for sentence in sentences:\n",
    "        print(color(sentence, analyzer.polarity_scores(sentence)['compound']), end=' ')"
   ],
   "metadata": {
    "collapsed": false,
    "pycharm": {
     "name": "#%%\n"
    }
   }
  },
  {
   "cell_type": "markdown",
   "source": [
    "This analysis reveals an occurrence that was previously hidden to us! Of the sentences marked with a positive or negative sentiment, there is a specific pattern.\n",
    "Beatty, the main speaker in this excerpt, uses negative sentiment when talking about Montag, but positive sentiment when talking about himself.\n",
    "While VADER cannot seem to parse the relationships in most of the dialogue, the successful results uncover details that would otherwise only be discoverable through literary analysis."
   ],
   "metadata": {
    "collapsed": false
   }
  },
  {
   "cell_type": "markdown",
   "source": [
    "## Conclusions\n",
    "\n",
    "Drawing conclusions from compound input data like the file provided proved difficult, but I learned some valuable lessons from this coding challenge.\n",
    "\n",
    "To summarize the results of the analysis: the holistic result came out to around 0.99, but this score was somewhat inaccurate; the paragraph-wise analysis revealed that the autobiography was very positive (understandably) but that our analyzer was having trouble understanding the novel excerpt, so its score of 0.81 was still not completely; in the third analysis, it was revealed that this was because it was not able to make out the sentiment of most of the sentences in the excerpt; however, from that analysis, a result of literary importance was gleaned.\n",
    "\n",
    "Overall, the sentiment of the text is positive. This is mostly due to the extremely positive autobiography of Benjamin Franklin, in which he describes himself with a long list of compliments. The first paragraph is more complex. The speaker has a mixed sentiment: it is positive when he is referring to himself but negative when referring to the object of his story.\n",
    "\n",
    "I consider this analysis an adequate solution to the proposed challenge because it appropriately determines the sentiment of the given input with multiple levels of granularity, explains what the seemingly arbitrary numerical scores mean, and compares and contrasts results from the analysis with intuitive and contextual analyses of the input text.\n",
    "\n",
    "## Limitations\n",
    "\n",
    "My initial plans for this coding challenge included a port of the VADER sentiment analysis library to Rust and an original algorithm to extract quotations from the text for better handling of context and textual relationships.\n",
    "Given enough time, I'm sure these plans would have been an enjoyable and fruitful endeavor, but due to time requirements, my solution to this challenge is limited to an existing library and some basic natural language processing.\n",
    "My algorithm of choice, VADER, is not meant to handle literary data; it is instead specifically designed for analyzing the slang and idioms of modern interactions on social media.\n",
    "This limitation could be overcome by training a similar model using a lexicon more suited to the target text.\n",
    "\n",
    "## License\n",
    "\n",
    "This notebook makes use of the VADER sentiment analysis tool. As such, it is provided under the MIT license, with credit for VADER given to the following paper/author.\n",
    "\n",
    "> Hutto, C.J. & Gilbert, E.E. (2014). VADER: A Parsimonious Rule-based Model for Sentiment Analysis of Social Media Text. Eighth International Conference on Weblogs and Social Media (ICWSM-14). Ann Arbor, MI, June 2014.\n",
    "\n",
    "In performing this analysis, I made use of the [VADER python implementation](https://github.com/cjhutto/vaderSentiment) and the [jupyter reference](https://jupyterbook.org/content/code-outputs.html)."
   ],
   "metadata": {
    "collapsed": false,
    "pycharm": {
     "name": "#%% md\n"
    }
   }
  }
 ],
 "metadata": {
  "kernelspec": {
   "display_name": "Python 3 (ipykernel)",
   "language": "python",
   "name": "python3"
  },
  "language_info": {
   "codemirror_mode": {
    "name": "ipython",
    "version": 3
   },
   "file_extension": ".py",
   "mimetype": "text/x-python",
   "name": "python",
   "nbconvert_exporter": "python",
   "pygments_lexer": "ipython3",
   "version": "3.9.6"
  }
 },
 "nbformat": 4,
 "nbformat_minor": 1
}